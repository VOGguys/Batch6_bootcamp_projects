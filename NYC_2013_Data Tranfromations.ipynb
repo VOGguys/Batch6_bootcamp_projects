{
 "cells":[
  {
   "cell_type":"markdown",
   "source":[
    "# NYC_2013"
   ],
   "attachments":{
    
   },
   "metadata":{
    "datalore":{
     "node_id":"NYC_2013",
     "type":"MD",
     "hide_input_from_viewers":false,
     "hide_output_from_viewers":false,
     "sheet_delimiter":true
    }
   }
  },
  {
   "cell_type":"markdown",
   "source":[
    "# NYC Flights 2013 Analysis\n",
    "\n",
    " - Host By: DataRockie \n",
    " - Edit By: Ggguys"
   ],
   "attachments":{
    
   },
   "metadata":{
    "datalore":{
     "node_id":"52iSLgkKlP56ARvAvCstsy",
     "type":"MD",
     "hide_input_from_viewers":false,
     "hide_output_from_viewers":false,
     "report_properties":{
      "y":0
     }
    }
   }
  },
  {
   "cell_type":"code",
   "source":[
    "\n",
    "library(tidyverse)\n",
    "library(dplyr)"
   ],
   "execution_count":46,
   "outputs":[
    
   ],
   "metadata":{
    "datalore":{
     "node_id":"6c2UvYjAGvc9MW7C33jYKk",
     "type":"CODE",
     "hide_input_from_viewers":false,
     "hide_output_from_viewers":false,
     "report_properties":{
      "y":5
     }
    }
   }
  },
  {
   "cell_type":"markdown",
   "source":[
    "**DataPreparation**"
   ],
   "attachments":{
    
   },
   "metadata":{
    "datalore":{
     "node_id":"BnXimpRaG2VaNw8eZZyJod",
     "type":"MD",
     "hide_input_from_viewers":false,
     "hide_output_from_viewers":false,
     "report_properties":{
      "y":9
     }
    }
   }
  },
  {
   "cell_type":"code",
   "source":[
    "# Import Data\n",
    "flights <- read.csv(\"flights.csv\",stringsAsFactors = FALSE)\n",
    "\n",
    "airline <-  read.csv(\"airlines.csv\",stringsAsFactors = FALSE)"
   ],
   "execution_count":47,
   "outputs":[
    
   ],
   "metadata":{
    "datalore":{
     "node_id":"OamZaRvaylY6T2RkRjcnt3",
     "type":"CODE",
     "hide_input_from_viewers":false,
     "hide_output_from_viewers":false,
     "report_properties":{
      "y":12
     }
    }
   }
  },
  {
   "cell_type":"code",
   "source":[
    "# View Data\n",
    "glimpse(flights)"
   ],
   "execution_count":48,
   "outputs":[
    {
     "name":"stdout",
     "text":[
      "Rows: 336,776\n",
      "Columns: 19\n",
      "$ year           \u001b[3m\u001b[90m<int>\u001b[39m\u001b[23m 2013, 2013, 2013, 2013, 2013, 2013, 2013, 2013, 2013, 2…\n",
      "$ month          \u001b[3m\u001b[90m<int>\u001b[39m\u001b[23m 1, 1, 1, 1, 1, 1, 1, 1, 1, 1, 1, 1, 1, 1, 1, 1, 1, 1, 1…\n",
      "$ day            \u001b[3m\u001b[90m<int>\u001b[39m\u001b[23m 1, 1, 1, 1, 1, 1, 1, 1, 1, 1, 1, 1, 1, 1, 1, 1, 1, 1, 1…\n",
      "$ dep_time       \u001b[3m\u001b[90m<int>\u001b[39m\u001b[23m 517, 533, 542, 544, 554, 554, 555, 557, 557, 558, 558, …\n",
      "$ sched_dep_time \u001b[3m\u001b[90m<int>\u001b[39m\u001b[23m 515, 529, 540, 545, 600, 558, 600, 600, 600, 600, 600, …\n",
      "$ dep_delay      \u001b[3m\u001b[90m<int>\u001b[39m\u001b[23m 2, 4, 2, -1, -6, -4, -5, -3, -3, -2, -2, -2, -2, -2, -1…\n",
      "$ arr_time       \u001b[3m\u001b[90m<int>\u001b[39m\u001b[23m 830, 850, 923, 1004, 812, 740, 913, 709, 838, 753, 849,…\n",
      "$ sched_arr_time \u001b[3m\u001b[90m<int>\u001b[39m\u001b[23m 819, 830, 850, 1022, 837, 728, 854, 723, 846, 745, 851,…\n",
      "$ arr_delay      \u001b[3m\u001b[90m<int>\u001b[39m\u001b[23m 11, 20, 33, -18, -25, 12, 19, -14, -8, 8, -2, -3, 7, -1…\n",
      "$ carrier        \u001b[3m\u001b[90m<chr>\u001b[39m\u001b[23m \"UA\", \"UA\", \"AA\", \"B6\", \"DL\", \"UA\", \"B6\", \"EV\", \"B6\", \"…\n",
      "$ flight         \u001b[3m\u001b[90m<int>\u001b[39m\u001b[23m 1545, 1714, 1141, 725, 461, 1696, 507, 5708, 79, 301, 4…\n",
      "$ tailnum        \u001b[3m\u001b[90m<chr>\u001b[39m\u001b[23m \"N14228\", \"N24211\", \"N619AA\", \"N804JB\", \"N668DN\", \"N394…\n",
      "$ origin         \u001b[3m\u001b[90m<chr>\u001b[39m\u001b[23m \"EWR\", \"LGA\", \"JFK\", \"JFK\", \"LGA\", \"EWR\", \"EWR\", \"LGA\",…\n",
      "$ dest           \u001b[3m\u001b[90m<chr>\u001b[39m\u001b[23m \"IAH\", \"IAH\", \"MIA\", \"BQN\", \"ATL\", \"ORD\", \"FLL\", \"IAD\",…\n",
      "$ air_time       \u001b[3m\u001b[90m<int>\u001b[39m\u001b[23m 227, 227, 160, 183, 116, 150, 158, 53, 140, 138, 149, 1…\n",
      "$ distance       \u001b[3m\u001b[90m<int>\u001b[39m\u001b[23m 1400, 1416, 1089, 1576, 762, 719, 1065, 229, 944, 733, …\n",
      "$ hour           \u001b[3m\u001b[90m<int>\u001b[39m\u001b[23m 5, 5, 5, 5, 6, 5, 6, 6, 6, 6, 6, 6, 6, 6, 6, 5, 6, 6, 6…\n",
      "$ minute         \u001b[3m\u001b[90m<int>\u001b[39m\u001b[23m 15, 29, 40, 45, 0, 58, 0, 0, 0, 0, 0, 0, 0, 0, 0, 59, 0…\n",
      "$ time_hour      \u001b[3m\u001b[90m<chr>\u001b[39m\u001b[23m \"2013-01-01T10:00:00Z\", \"2013-01-01T10:00:00Z\", \"2013-0…\n"
     ],
     "output_type":"stream"
    }
   ],
   "metadata":{
    "datalore":{
     "node_id":"W4lZNFA48idcupBWlXbal5",
     "type":"CODE",
     "hide_input_from_viewers":false,
     "hide_output_from_viewers":false,
     "report_properties":{
      "y":16
     }
    }
   }
  },
  {
   "cell_type":"code",
   "source":[
    "glimpse(airline)"
   ],
   "execution_count":49,
   "outputs":[
    {
     "name":"stdout",
     "text":[
      "Rows: 16\n",
      "Columns: 2\n",
      "$ carrier \u001b[3m\u001b[90m<chr>\u001b[39m\u001b[23m \"9E\", \"AA\", \"AS\", \"B6\", \"DL\", \"EV\", \"F9\", \"FL\", \"HA\", \"MQ\", \"O…\n",
      "$ name    \u001b[3m\u001b[90m<chr>\u001b[39m\u001b[23m \"Endeavor Air Inc.\", \"American Airlines Inc.\", \"Alaska Airline…\n"
     ],
     "output_type":"stream"
    }
   ],
   "metadata":{
    "datalore":{
     "node_id":"sLXnuSEWJHAhw64w8VqMM2",
     "type":"CODE",
     "hide_input_from_viewers":false,
     "hide_output_from_viewers":false,
     "report_properties":{
      "y":30
     }
    }
   }
  },
  {
   "cell_type":"markdown",
   "source":[
    "**Check Missing Value**\n",
    "\n",
    "- Compleate Data = 97% \n",
    "- Missing Data = 3%\n",
    "\n",
    "We accept missing data <= 5% we will clear missing data to be confrimed that not impact with database."
   ],
   "attachments":{
    
   },
   "metadata":{
    "datalore":{
     "node_id":"HE2n0aJuIKaVALbocGRKpL",
     "type":"MD",
     "hide_input_from_viewers":false,
     "hide_output_from_viewers":false,
     "report_properties":{
      "y":36
     }
    }
   }
  },
  {
   "cell_type":"code",
   "source":[
    "sum(complete.cases(flights))\/nrow(flights)"
   ],
   "execution_count":50,
   "outputs":[
    {
     "data":{
      "text\/html":[
       "0.971999192341497"
      ]
     },
     "metadata":{
      
     },
     "output_type":"display_data"
    }
   ],
   "metadata":{
    "datalore":{
     "node_id":"nQU8CFzp9REjIJ5tXA7cDw",
     "type":"CODE",
     "hide_input_from_viewers":false,
     "hide_output_from_viewers":false,
     "report_properties":{
      "y":42
     }
    }
   }
  },
  {
   "cell_type":"code",
   "source":[
    "flights_clean <- drop_na(flights)\n",
    "flights_clean %>%\n",
    "    head(5)"
   ],
   "execution_count":51,
   "outputs":[
    {
     "data":{
      "text\/html":[
       "<table class=\"dataframe\">\n",
       "<caption>A data.frame: 5 × 19<\/caption>\n",
       "<thead>\n",
       "\t<tr><th><\/th><th scope=col>year<\/th><th scope=col>month<\/th><th scope=col>day<\/th><th scope=col>dep_time<\/th><th scope=col>sched_dep_time<\/th><th scope=col>dep_delay<\/th><th scope=col>arr_time<\/th><th scope=col>sched_arr_time<\/th><th scope=col>arr_delay<\/th><th scope=col>carrier<\/th><th scope=col>flight<\/th><th scope=col>tailnum<\/th><th scope=col>origin<\/th><th scope=col>dest<\/th><th scope=col>air_time<\/th><th scope=col>distance<\/th><th scope=col>hour<\/th><th scope=col>minute<\/th><th scope=col>time_hour<\/th><\/tr>\n",
       "\t<tr><th><\/th><th scope=col>&lt;int&gt;<\/th><th scope=col>&lt;int&gt;<\/th><th scope=col>&lt;int&gt;<\/th><th scope=col>&lt;int&gt;<\/th><th scope=col>&lt;int&gt;<\/th><th scope=col>&lt;int&gt;<\/th><th scope=col>&lt;int&gt;<\/th><th scope=col>&lt;int&gt;<\/th><th scope=col>&lt;int&gt;<\/th><th scope=col>&lt;chr&gt;<\/th><th scope=col>&lt;int&gt;<\/th><th scope=col>&lt;chr&gt;<\/th><th scope=col>&lt;chr&gt;<\/th><th scope=col>&lt;chr&gt;<\/th><th scope=col>&lt;int&gt;<\/th><th scope=col>&lt;int&gt;<\/th><th scope=col>&lt;int&gt;<\/th><th scope=col>&lt;int&gt;<\/th><th scope=col>&lt;chr&gt;<\/th><\/tr>\n",
       "<\/thead>\n",
       "<tbody>\n",
       "\t<tr><th scope=row>1<\/th><td>2013<\/td><td>1<\/td><td>1<\/td><td>517<\/td><td>515<\/td><td> 2<\/td><td> 830<\/td><td> 819<\/td><td> 11<\/td><td>UA<\/td><td>1545<\/td><td>N14228<\/td><td>EWR<\/td><td>IAH<\/td><td>227<\/td><td>1400<\/td><td>5<\/td><td>15<\/td><td>2013-01-01T10:00:00Z<\/td><\/tr>\n",
       "\t<tr><th scope=row>2<\/th><td>2013<\/td><td>1<\/td><td>1<\/td><td>533<\/td><td>529<\/td><td> 4<\/td><td> 850<\/td><td> 830<\/td><td> 20<\/td><td>UA<\/td><td>1714<\/td><td>N24211<\/td><td>LGA<\/td><td>IAH<\/td><td>227<\/td><td>1416<\/td><td>5<\/td><td>29<\/td><td>2013-01-01T10:00:00Z<\/td><\/tr>\n",
       "\t<tr><th scope=row>3<\/th><td>2013<\/td><td>1<\/td><td>1<\/td><td>542<\/td><td>540<\/td><td> 2<\/td><td> 923<\/td><td> 850<\/td><td> 33<\/td><td>AA<\/td><td>1141<\/td><td>N619AA<\/td><td>JFK<\/td><td>MIA<\/td><td>160<\/td><td>1089<\/td><td>5<\/td><td>40<\/td><td>2013-01-01T10:00:00Z<\/td><\/tr>\n",
       "\t<tr><th scope=row>4<\/th><td>2013<\/td><td>1<\/td><td>1<\/td><td>544<\/td><td>545<\/td><td>-1<\/td><td>1004<\/td><td>1022<\/td><td>-18<\/td><td>B6<\/td><td> 725<\/td><td>N804JB<\/td><td>JFK<\/td><td>BQN<\/td><td>183<\/td><td>1576<\/td><td>5<\/td><td>45<\/td><td>2013-01-01T10:00:00Z<\/td><\/tr>\n",
       "\t<tr><th scope=row>5<\/th><td>2013<\/td><td>1<\/td><td>1<\/td><td>554<\/td><td>600<\/td><td>-6<\/td><td> 812<\/td><td> 837<\/td><td>-25<\/td><td>DL<\/td><td> 461<\/td><td>N668DN<\/td><td>LGA<\/td><td>ATL<\/td><td>116<\/td><td> 762<\/td><td>6<\/td><td> 0<\/td><td>2013-01-01T11:00:00Z<\/td><\/tr>\n",
       "<\/tbody>\n",
       "<\/table>\n"
      ]
     },
     "metadata":{
      
     },
     "output_type":"display_data"
    }
   ],
   "metadata":{
    "datalore":{
     "node_id":"fTmKhbt2VaWz1jdTeWcvLL",
     "type":"CODE",
     "hide_input_from_viewers":false,
     "hide_output_from_viewers":false,
     "report_properties":{
      "y":46
     }
    }
   }
  },
  {
   "cell_type":"markdown",
   "source":[
    "# Questions 1 \n",
    "\n",
    "**With season had most flights in 2013 ?**"
   ],
   "attachments":{
    
   },
   "metadata":{
    "datalore":{
     "node_id":"vf0zyW6TOv0b7wyYygyw1d",
     "type":"MD",
     "hide_input_from_viewers":false,
     "hide_output_from_viewers":false,
     "report_properties":{
      "y":58
     }
    }
   }
  },
  {
   "cell_type":"code",
   "source":[
    " season_flights <-flights_clean  %>%\n",
    "   mutate(season = case_when(\n",
    "       month == 1 ~ \"winter\",\n",
    "       month == 2 ~ \"winter\",\n",
    "       month == 3 ~ \"sprin\",\n",
    "       month == 4 ~ \"sprin\",\n",
    "       month == 5 ~ \"sprin\",\n",
    "       month == 6 ~ \"summer\",\n",
    "       month == 7 ~ \"summer\",\n",
    "       month == 8 ~ \"summer\",\n",
    "       month == 9 ~ \"autumn\",\n",
    "       month == 10 ~ \"autumn\",\n",
    "       month == 11 ~ \"autumn\",\n",
    "       month == 12 ~ \"winter\")) %>%\n",
    "    count(season) %>%\n",
    "    arrange(desc(n)) \n",
    "\n",
    "    season_flights"
   ],
   "execution_count":52,
   "outputs":[
    {
     "data":{
      "text\/html":[
       "<table class=\"dataframe\">\n",
       "<caption>A data.frame: 4 × 2<\/caption>\n",
       "<thead>\n",
       "\t<tr><th scope=col>season<\/th><th scope=col>n<\/th><\/tr>\n",
       "\t<tr><th scope=col>&lt;chr&gt;<\/th><th scope=col>&lt;int&gt;<\/th><\/tr>\n",
       "<\/thead>\n",
       "<tbody>\n",
       "\t<tr><td>summer<\/td><td>84124<\/td><\/tr>\n",
       "\t<tr><td>sprin <\/td><td>83594<\/td><\/tr>\n",
       "\t<tr><td>autumn<\/td><td>82599<\/td><\/tr>\n",
       "\t<tr><td>winter<\/td><td>77029<\/td><\/tr>\n",
       "<\/tbody>\n",
       "<\/table>\n"
      ]
     },
     "metadata":{
      
     },
     "output_type":"display_data"
    }
   ],
   "metadata":{
    "datalore":{
     "node_id":"7iSgGgTfc7hjotfcssd8io",
     "type":"CODE",
     "hide_input_from_viewers":false,
     "hide_output_from_viewers":false,
     "report_properties":{
      "y":63
     }
    }
   }
  },
  {
   "cell_type":"markdown",
   "source":[
    "# Queastions 2 \n",
    "\n",
    "**With carrier had most distance of 2013 ?**"
   ],
   "attachments":{
    
   },
   "metadata":{
    "datalore":{
     "node_id":"ZuNHuCbAXHAbGO4iplM7qG",
     "type":"MD",
     "hide_input_from_viewers":false,
     "hide_output_from_viewers":false,
     "report_properties":{
      "y":75
     }
    }
   }
  },
  {
   "cell_type":"code",
   "source":[
    "n_dist_flights <- flights_clean %>%\n",
    "  group_by(carrier) %>%\n",
    "  summarise(sum_dist = sum(distance),\n",
    "            mean_dist = mean(distance),\n",
    "            sd_dist = sd(distance),\n",
    "            num_flights = n()) %>%\n",
    "  left_join(airline,by = \"carrier\") %>%\n",
    "  select(airline_name = name,carrier,num_flights,sum_dist,mean_dist,sd_dist) %>%\n",
    "  arrange(desc(sum_dist))\n",
    "\n",
    " n_dist_flights"
   ],
   "execution_count":53,
   "outputs":[
    {
     "data":{
      "text\/html":[
       "<table class=\"dataframe\">\n",
       "<caption>A tibble: 16 × 6<\/caption>\n",
       "<thead>\n",
       "\t<tr><th scope=col>airline_name<\/th><th scope=col>carrier<\/th><th scope=col>num_flights<\/th><th scope=col>sum_dist<\/th><th scope=col>mean_dist<\/th><th scope=col>sd_dist<\/th><\/tr>\n",
       "\t<tr><th scope=col>&lt;chr&gt;<\/th><th scope=col>&lt;chr&gt;<\/th><th scope=col>&lt;int&gt;<\/th><th scope=col>&lt;int&gt;<\/th><th scope=col>&lt;dbl&gt;<\/th><th scope=col>&lt;dbl&gt;<\/th><\/tr>\n",
       "<\/thead>\n",
       "<tbody>\n",
       "\t<tr><td>United Air Lines Inc.      <\/td><td>UA<\/td><td>57782<\/td><td>88482811<\/td><td>1531.3214<\/td><td>798.7333<\/td><\/tr>\n",
       "\t<tr><td>Delta Air Lines Inc.       <\/td><td>DL<\/td><td>47658<\/td><td>58999610<\/td><td>1237.9791<\/td><td>660.6463<\/td><\/tr>\n",
       "\t<tr><td>JetBlue Airways            <\/td><td>B6<\/td><td>54049<\/td><td>57815654<\/td><td>1069.6896<\/td><td>703.9905<\/td><\/tr>\n",
       "\t<tr><td>American Airlines Inc.     <\/td><td>AA<\/td><td>31947<\/td><td>42913762<\/td><td>1343.2799<\/td><td>639.7673<\/td><\/tr>\n",
       "\t<tr><td>ExpressJet Airlines Inc.   <\/td><td>EV<\/td><td>51108<\/td><td>28766906<\/td><td> 562.8650<\/td><td>287.1975<\/td><\/tr>\n",
       "\t<tr><td>Envoy Air                  <\/td><td>MQ<\/td><td>25037<\/td><td>14280468<\/td><td> 570.3746<\/td><td>226.2469<\/td><\/tr>\n",
       "\t<tr><td>Virgin America             <\/td><td>VX<\/td><td> 5116<\/td><td>12787097<\/td><td>2499.4326<\/td><td> 88.1994<\/td><\/tr>\n",
       "\t<tr><td>Southwest Airlines Co.     <\/td><td>WN<\/td><td>12044<\/td><td>12007523<\/td><td> 996.9714<\/td><td>410.3949<\/td><\/tr>\n",
       "\t<tr><td>US Airways Inc.            <\/td><td>US<\/td><td>19831<\/td><td>11121739<\/td><td> 560.8259<\/td><td>587.7829<\/td><\/tr>\n",
       "\t<tr><td>Endeavor Air Inc.          <\/td><td>9E<\/td><td>17294<\/td><td> 9163911<\/td><td> 529.8896<\/td><td>320.2736<\/td><\/tr>\n",
       "\t<tr><td>AirTran Airways Corporation<\/td><td>FL<\/td><td> 3175<\/td><td> 2110700<\/td><td> 664.7874<\/td><td>160.9307<\/td><\/tr>\n",
       "\t<tr><td>Hawaiian Airlines Inc.     <\/td><td>HA<\/td><td>  342<\/td><td> 1704186<\/td><td>4983.0000<\/td><td>  0.0000<\/td><\/tr>\n",
       "\t<tr><td>Alaska Airlines Inc.       <\/td><td>AS<\/td><td>  709<\/td><td> 1703018<\/td><td>2402.0000<\/td><td>  0.0000<\/td><\/tr>\n",
       "\t<tr><td>Frontier Airlines Inc.     <\/td><td>F9<\/td><td>  681<\/td><td> 1103220<\/td><td>1620.0000<\/td><td>  0.0000<\/td><\/tr>\n",
       "\t<tr><td>Mesa Airlines Inc.         <\/td><td>YV<\/td><td>  544<\/td><td>  204782<\/td><td> 376.4375<\/td><td>160.0885<\/td><\/tr>\n",
       "\t<tr><td>SkyWest Airlines Inc.      <\/td><td>OO<\/td><td>   29<\/td><td>   14769<\/td><td> 509.2759<\/td><td>215.1046<\/td><\/tr>\n",
       "<\/tbody>\n",
       "<\/table>\n"
      ]
     },
     "metadata":{
      
     },
     "output_type":"display_data"
    }
   ],
   "metadata":{
    "datalore":{
     "node_id":"76rcAPuPBqlm0FRoQwRAmS",
     "type":"CODE",
     "hide_input_from_viewers":false,
     "hide_output_from_viewers":false,
     "report_properties":{
      "y":78
     }
    }
   }
  },
  {
   "cell_type":"markdown",
   "source":[
    "# Questions 3 \n",
    "**Which top 5 airline had hightest number of delayed dapartures ?**"
   ],
   "attachments":{
    
   },
   "metadata":{
    "datalore":{
     "node_id":"Zv4tXk9EvoOp6c3e6XHtYl",
     "type":"MD",
     "hide_input_from_viewers":false,
     "hide_output_from_viewers":false,
     "report_properties":{
      "y":81
     }
    }
   }
  },
  {
   "cell_type":"code",
   "source":[
    "flights_delayed <- flights_clean %>%\n",
    "    group_by(carrier) %>%\n",
    "    filter(dep_delay > 0) %>%\n",
    "    summarize(num_delay = n()) %>%\n",
    "    left_join(airline,by = \"carrier\") %>%\n",
    "    select(airline_name = name,num_delay) %>%\n",
    "    arrange(desc(num_delay))\n",
    "\n",
    "flights_delayed %>%\n",
    "    head(5)"
   ],
   "execution_count":54,
   "outputs":[
    {
     "data":{
      "text\/html":[
       "<table class=\"dataframe\">\n",
       "<caption>A tibble: 5 × 2<\/caption>\n",
       "<thead>\n",
       "\t<tr><th scope=col>airline_name<\/th><th scope=col>num_delay<\/th><\/tr>\n",
       "\t<tr><th scope=col>&lt;chr&gt;<\/th><th scope=col>&lt;int&gt;<\/th><\/tr>\n",
       "<\/thead>\n",
       "<tbody>\n",
       "\t<tr><td>United Air Lines Inc.   <\/td><td>27125<\/td><\/tr>\n",
       "\t<tr><td>ExpressJet Airlines Inc.<\/td><td>22976<\/td><\/tr>\n",
       "\t<tr><td>JetBlue Airways         <\/td><td>21372<\/td><\/tr>\n",
       "\t<tr><td>Delta Air Lines Inc.    <\/td><td>15186<\/td><\/tr>\n",
       "\t<tr><td>American Airlines Inc.  <\/td><td>10105<\/td><\/tr>\n",
       "<\/tbody>\n",
       "<\/table>\n"
      ]
     },
     "metadata":{
      
     },
     "output_type":"display_data"
    }
   ],
   "metadata":{
    "datalore":{
     "node_id":"MBTcvOwhaF3a10Q7RlxBZW",
     "type":"CODE",
     "hide_input_from_viewers":false,
     "hide_output_from_viewers":false,
     "report_properties":{
      "y":84
     }
    }
   }
  },
  {
   "cell_type":"markdown",
   "source":[
    "# Questions 4\n",
    "**Top 5 best performance airlines ranked base on flights delay ratio**"
   ],
   "attachments":{
    
   },
   "metadata":{
    "datalore":{
     "node_id":"jcrVOHNJSIGgRFb8XvUGDG",
     "type":"MD",
     "hide_input_from_viewers":false,
     "hide_output_from_viewers":false,
     "report_properties":{
      "y":87
     }
    }
   }
  },
  {
   "cell_type":"code",
   "source":[
    " deleyed_ratio <- n_dist_flights %>%\n",
    "left_join(flights_delayed,by = \"airline_name\") %>%\n",
    "mutate(deleyed_ratio = flights_delayed$num_delay \/ n_dist_flights$num_flights ) %>%\n",
    "select(airline_name,carrier,num_flights,deleyed_ratio)\n",
    "\n",
    "deleyed_ratio %>%\n",
    "arrange(deleyed_ratio) %>%\n",
    "head(5)"
   ],
   "execution_count":55,
   "outputs":[
    {
     "data":{
      "text\/html":[
       "<table class=\"dataframe\">\n",
       "<caption>A tibble: 5 × 4<\/caption>\n",
       "<thead>\n",
       "\t<tr><th scope=col>airline_name<\/th><th scope=col>carrier<\/th><th scope=col>num_flights<\/th><th scope=col>deleyed_ratio<\/th><\/tr>\n",
       "\t<tr><th scope=col>&lt;chr&gt;<\/th><th scope=col>&lt;chr&gt;<\/th><th scope=col>&lt;int&gt;<\/th><th scope=col>&lt;dbl&gt;<\/th><\/tr>\n",
       "<\/thead>\n",
       "<tbody>\n",
       "\t<tr><td>Mesa Airlines Inc.      <\/td><td>YV<\/td><td>  544<\/td><td>0.1268382<\/td><\/tr>\n",
       "\t<tr><td>Endeavor Air Inc.       <\/td><td>9E<\/td><td>17294<\/td><td>0.1281369<\/td><\/tr>\n",
       "\t<tr><td>ExpressJet Airlines Inc.<\/td><td>EV<\/td><td>51108<\/td><td>0.1977186<\/td><\/tr>\n",
       "\t<tr><td>US Airways Inc.         <\/td><td>US<\/td><td>19831<\/td><td>0.2401291<\/td><\/tr>\n",
       "\t<tr><td>SkyWest Airlines Inc.   <\/td><td>OO<\/td><td>   29<\/td><td>0.3103448<\/td><\/tr>\n",
       "<\/tbody>\n",
       "<\/table>\n"
      ]
     },
     "metadata":{
      
     },
     "output_type":"display_data"
    }
   ],
   "metadata":{
    "datalore":{
     "node_id":"sRdfaOr7s2uVGxCDiOoT1N",
     "type":"CODE",
     "hide_input_from_viewers":false,
     "hide_output_from_viewers":false,
     "report_properties":{
      "y":90
     }
    }
   }
  },
  {
   "cell_type":"markdown",
   "source":[
    "# Questions 5\n",
    "**Which Top 5 popular destinations in December 2013**"
   ],
   "attachments":{
    
   },
   "metadata":{
    "datalore":{
     "node_id":"wvPmgZ2tDZOir2Q7QDIafI",
     "type":"MD",
     "hide_input_from_viewers":false,
     "hide_output_from_viewers":false,
     "report_properties":{
      "y":93
     }
    }
   }
  },
  {
   "cell_type":"code",
   "source":[
    "flights_clean %>%\n",
    "filter(month == 12) %>%\n",
    "group_by(dest) %>%\n",
    "summarise(num_flights = n()) %>%\n",
    "select(dest,num_flights) %>%\n",
    "arrange(desc(num_flights)) %>%\n",
    "head(5)"
   ],
   "execution_count":56,
   "outputs":[
    {
     "data":{
      "text\/html":[
       "<table class=\"dataframe\">\n",
       "<caption>A tibble: 5 × 2<\/caption>\n",
       "<thead>\n",
       "\t<tr><th scope=col>dest<\/th><th scope=col>num_flights<\/th><\/tr>\n",
       "\t<tr><th scope=col>&lt;chr&gt;<\/th><th scope=col>&lt;int&gt;<\/th><\/tr>\n",
       "<\/thead>\n",
       "<tbody>\n",
       "\t<tr><td>ATL<\/td><td>1429<\/td><\/tr>\n",
       "\t<tr><td>LAX<\/td><td>1390<\/td><\/tr>\n",
       "\t<tr><td>MCO<\/td><td>1203<\/td><\/tr>\n",
       "\t<tr><td>SFO<\/td><td>1159<\/td><\/tr>\n",
       "\t<tr><td>CLT<\/td><td>1155<\/td><\/tr>\n",
       "<\/tbody>\n",
       "<\/table>\n"
      ]
     },
     "metadata":{
      
     },
     "output_type":"display_data"
    }
   ],
   "metadata":{
    "datalore":{
     "node_id":"k3HisUVG5NDSSbYvHxOkdy",
     "type":"CODE",
     "hide_input_from_viewers":false,
     "hide_output_from_viewers":false,
     "report_properties":{
      "y":96
     }
    }
   }
  }
 ],
 "metadata":{
  "kernelspec":{
   "display_name":"R",
   "language":"r",
   "name":"ir"
  },
  "datalore":{
   "version":1,
   "computation_mode":"JUPYTER",
   "package_manager":"conda",
   "base_environment":"minimal",
   "packages":[
    
   ]
  }
 },
 "nbformat":4,
 "nbformat_minor":4
}