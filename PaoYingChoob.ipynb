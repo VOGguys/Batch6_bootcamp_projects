{
 "cells":[
  {
   "cell_type":"markdown",
   "source":[
    "# Pao Ying Choob Game with Python"
   ],
   "attachments":{
    
   },
   "metadata":{
    "datalore":{
     "node_id":"SN2OnUmjOnOoO4p22B2e7u",
     "type":"MD",
     "hide_input_from_viewers":false,
     "hide_output_from_viewers":false
    }
   }
  },
  {
   "cell_type":"code",
   "source":[
    "import pandas as pd\n",
    "import random"
   ],
   "execution_count":9,
   "outputs":[
    
   ],
   "metadata":{
    "datalore":{
     "node_id":"ycHiwdwB3fAtjXtjp0EUHa",
     "type":"CODE",
     "hide_input_from_viewers":false,
     "hide_output_from_viewers":false
    }
   }
  },
  {
   "cell_type":"code",
   "source":[
    "# create varieble\n",
    "\n",
    "tool = ['Rock', 'Scissors', 'Paper']\n",
    "tool_value = [0,2,5]\n",
    "\n",
    "count = 0 \n",
    "win = 0\n",
    "draw = 0 \n",
    "lose = 0"
   ],
   "execution_count":10,
   "outputs":[
    
   ],
   "metadata":{
    "datalore":{
     "node_id":"vScnlfiyG1cSMohGuCl4ZE",
     "type":"CODE",
     "hide_input_from_viewers":false,
     "hide_output_from_viewers":false
    }
   }
  },
  {
   "cell_type":"code",
   "source":[
    "print(\"Hi! Welcome to Rock\/Scissors\/Paper Game with AI.\")\n",
    "print(\"Rule of game! you select our weapon:\\n 1.Rock[0]\\n 2.Scissors[2]\\n 3.Paper[5]\")\n",
    "print(\"And AI will select weapon also!\")\n",
    "\n",
    "\n",
    "while count >= 0:\n",
    "    count += 1\n",
    "    print(f'---------- Round:{count}------------')\n",
    "    print('please select our weapon:\\n 1.Rock[0]\\n 2.Scissors[2]\\n 3.Paper[5]\\n 4.if you want to quit game.please place [9]')\n",
    "    user = int(input('What you select (int): '))\n",
    "    ai = random.choice(tool_value)\n",
    "    \n",
    "    if user == 0 and ai == 0:\n",
    "        draw +=1\n",
    "        print(\"User select: Rock\")\n",
    "        print(\"AI select: Rock\")\n",
    "        print(\"Draw!It so close please type again.\")\n",
    "    elif user == 2 and ai == 2:\n",
    "        draw +=1\n",
    "        print(\"User select: Scissors\")\n",
    "        print(\"AI select: Scissors\")\n",
    "        print(\"Draw!It so close please type again.\")\n",
    "    elif user == 5 and ai == 5:\n",
    "        draw +=1\n",
    "        print(\"User select: Paper\")\n",
    "        print(\"AI select: Paper\")\n",
    "        print(\"Draw!It so close please type again.\")\n",
    "    elif user == 2 and ai == 5:\n",
    "        win +=1\n",
    "        print(\"User select: Scissors\")\n",
    "        print(\"AI select: Paper\")\n",
    "        print(\"Congreatulation you win!\")\n",
    "    elif user == 0 and ai == 2:\n",
    "        win +=1\n",
    "        print(\"User select: Rock\")\n",
    "        print(\"AI select: Scissors\")\n",
    "        print(\"Congreatulation you win!\")\n",
    "    elif user == 5 and ai == 0:\n",
    "        win +=1\n",
    "        print(\"User select: Paper\")\n",
    "        print(\"AI select: Rock\")\n",
    "        print(\"Congreatulation you win!\")\n",
    "    elif user == 2 and ai == 0:\n",
    "        lose +=1\n",
    "        print(\"User select: Paper\")\n",
    "        print(\"AI select: Rock\")\n",
    "        print(\"You loss!but Let's try again\")\n",
    "    elif user == 5 and ai == 2:\n",
    "        lose +=1\n",
    "        print(\"User select: Paper\")\n",
    "        print(\"AI select: Scissors\")\n",
    "        print(\"You loss!but Let's try again\")\n",
    "    elif user == 0 and ai == 5:\n",
    "        lose +=1\n",
    "        print(\"User select: Rock\")\n",
    "        print(\"AI select: Paper\")\n",
    "        print(\"You loss!but Let's try again\")\n",
    "    elif user == 9:\n",
    "        print(\"Quit the Game!\")\n",
    "        print(\"--------- Summary---------\")\n",
    "        print (\"     Win : Draw : Lose \")\n",
    "        print(f\"       {win}   :  {draw}  :   {lose}  \")\n",
    "        if win > lose :\n",
    "            print(\"Congreatulation! Totaly you win.\")\n",
    "        elif win < lose :\n",
    "            print(\"Your lose! Let's try again.\")\n",
    "        else :\n",
    "            print (\"Totaly we are draw! Let's try again.\")\n",
    "        break\n",
    "    else :\n",
    "        print (\"Wrong selected. Plrase try again!\")"
   ],
   "execution_count":11,
   "outputs":[
    {
     "name":"stdout",
     "text":[
      "Hi! Welcome to Rock\/Scissors\/Paper Game with AI.\n",
      "Rule of game! you select our weapon:\n",
      " 1.Rock[0]\n",
      " 2.Scissors[2]\n",
      " 3.Paper[5]\n",
      "And AI will select weapon also!\n",
      "---------- Round:1------------\n",
      "please select our weapon:\n",
      " 1.Rock[0]\n",
      " 2.Scissors[2]\n",
      " 3.Paper[5]\n",
      " 4.if you want to quit game.please place [9]\n",
      "What you select (int):  5\n",
      "User select: Paper\n",
      "AI select: Paper\n",
      "Draw!It so close please type again.\n",
      "---------- Round:2------------\n",
      "please select our weapon:\n",
      " 1.Rock[0]\n",
      " 2.Scissors[2]\n",
      " 3.Paper[5]\n",
      " 4.if you want to quit game.please place [9]\n",
      "What you select (int):  2\n",
      "User select: Scissors\n",
      "AI select: Paper\n",
      "Congreatulation you win!\n",
      "---------- Round:3------------\n",
      "please select our weapon:\n",
      " 1.Rock[0]\n",
      " 2.Scissors[2]\n",
      " 3.Paper[5]\n",
      " 4.if you want to quit game.please place [9]\n",
      "What you select (int):  0\n",
      "User select: Rock\n",
      "AI select: Rock\n",
      "Draw!It so close please type again.\n",
      "---------- Round:4------------\n",
      "please select our weapon:\n",
      " 1.Rock[0]\n",
      " 2.Scissors[2]\n",
      " 3.Paper[5]\n",
      " 4.if you want to quit game.please place [9]\n",
      "What you select (int):  9\n",
      "Quit the Game!\n",
      "--------- Summary---------\n",
      "     Win : Draw : Lose \n",
      "       1   :  2  :   0  \n",
      "Congreatulation! Totaly you win.\n"
     ],
     "output_type":"stream"
    }
   ],
   "metadata":{
    "datalore":{
     "node_id":"EeEbVcKkOfW0KHMSvTPDfw",
     "type":"CODE",
     "hide_input_from_viewers":false,
     "hide_output_from_viewers":false
    }
   }
  }
 ],
 "metadata":{
  "kernelspec":{
   "display_name":"Python",
   "language":"python",
   "name":"python"
  },
  "datalore":{
   "version":1,
   "computation_mode":"JUPYTER",
   "package_manager":"pip",
   "base_environment":"default",
   "packages":[
    
   ]
  }
 },
 "nbformat":4,
 "nbformat_minor":4
}