{
 "cells":[
  {
   "cell_type":"markdown",
   "source":[
    "# Home Work\n",
    "\n",
    "ATM Class"
   ],
   "attachments":{
    
   },
   "metadata":{
    "datalore":{
     "node_id":"w2bmlg6Y6trDLEn1JtWSQd",
     "type":"MD",
     "hide_input_from_viewers":false,
     "hide_output_from_viewers":false
    }
   }
  },
  {
   "cell_type":"code",
   "source":[
    "# ATM\n",
    "\n",
    "class ATM:\n",
    "    def __init__(self,name,password,balance: float):\n",
    "        self.name = name\n",
    "        self.password = password\n",
    "        self.balance = balance\n",
    "    \n",
    "    def check_balance(self):\n",
    "        print(f\"Account: {self.name} have balance:{self.balance} baht.\")\n",
    "        print(\"Thank you for your continued trust and confidence in our services.\")\n",
    "\n",
    "    def deposit(self,money: float):\n",
    "        self.balance += money\n",
    "        print(\"Deposit Successfully.\")\n",
    "        print(f\"Now your account have balance {self.balance} THB.\")\n",
    "\n",
    "    def change_name(self,new_acc_name):\n",
    "        self.name = new_acc_name\n",
    "        print(f\"New name is {self.name}\")\n",
    "        print(f\"Your account name is change to {self.name}. Thank You!\")\n",
    "\n",
    "    def withdraw(self,money: float):\n",
    "        if self.balance < money:\n",
    "            print(f\"Insufficient funds becuase you have balance {self.balance} THB.\")\n",
    "            print(\"Please recheck again!\")\n",
    "        else:\n",
    "            print(\"--- Withdraw Sucessfully!---- \")\n",
    "            print(f\"From Account{self.name},total amount {money} THB.\")\n",
    "    \n",
    "    def transfer(self,to_acc,money: float):\n",
    "        if self.balance < money:\n",
    "            print(f\"Insufficient funds becuase you have balance {self.balance} THB.\")\n",
    "            print(\"Please recheck again!\")\n",
    "        else:\n",
    "            self.balance -= money\n",
    "            print(\"---Transfer Sucessfully!---\")\n",
    "            print(f\"Source Account from :  {self.name}\")\n",
    "            print(f\"To Destination account: {to_acc} has Amount {money} THB.\")\n",
    "            print(\"Thank you for your continued trust and confidence in our services.\")\n",
    "\n",
    "    def login(self, name, password):\n",
    "        if self.name == name and self.password == password:\n",
    "            print(\"Login successfully.\")\n",
    "            print(f\"Hello! {self.name}\")\n",
    "        elif self.name == name and self.password != password:\n",
    "            print(\"Your password is incorrect.\")\n",
    "        else:\n",
    "            print(\"There is no this name in system. Please check your name.\")\n",
    "\n",
    "    def change_password(self, new_password):\n",
    "        self.password = new_password\n",
    "        print(f\"Password: {self.password}\")\n",
    "        print(\"Your password has been changed.\")"
   ],
   "execution_count":2,
   "outputs":[
    
   ],
   "metadata":{
    "datalore":{
     "node_id":"hbShb98GNVE1Qi1Ie7dhl1",
     "type":"CODE",
     "hide_input_from_viewers":false,
     "hide_output_from_viewers":false
    }
   }
  },
  {
   "cell_type":"code",
   "source":[
    "# open new account with gguys bank\n",
    "\n",
    "print(\"Have a good day! Welcome to Gguys Bank\")\n",
    "print(\"Open New Account\")\n",
    "name = input(\"Name: \")\n",
    "password = input(\"Password (int 6 digits): \")\n",
    "balance = int(input(\"Deposit Amount (int):  \"))\n",
    "user = ATM(name, password, balance)\n",
    "print(\"Successfully open new account.\") "
   ],
   "execution_count":3,
   "outputs":[
    {
     "name":"stdout",
     "text":[
      "Have a good day! Welcome to Gguys Bank\n",
      "Open New Account\n",
      "Name:  gguys\n",
      "Password (int 6 digits):  251139\n",
      "Deposit Amount (int):   50000\n",
      "Successfully open new account.\n"
     ],
     "output_type":"stream"
    }
   ],
   "metadata":{
    "datalore":{
     "node_id":"7lFWJWeSzqoRtUr73lBXsR",
     "type":"CODE",
     "hide_input_from_viewers":false,
     "hide_output_from_viewers":false
    }
   }
  },
  {
   "cell_type":"code",
   "source":[
    "# ATM Functions\n",
    "\n",
    "print(\"Have a good day! Welcome to Gguys Bank\")\n",
    "print(\"Please fill your name and password!\")\n",
    "print(\"----------------------------------\")\n",
    "login_name = input(\"Name: \")\n",
    "login_password = input(\"Password: \")\n",
    "user.login(login_name, login_password)\n",
    "print(\"Waiting for processing\")\n",
    "print(\"----------------------------------\")\n",
    "\n",
    "if login_name == name and login_password == password:\n",
    "    print(\"What would you like to do?\\n 1. Check balance\\n 2. Deposit\\n 3. Withdraw\\n 4. Transfer\\n 5. Change account name\\n 6. Change password\")\n",
    "    service = int(input(\"Please fill number of service: \"))\n",
    "\n",
    "    if service == 1:\n",
    "        user.check_balance()\n",
    "    elif service == 2:\n",
    "        money = float(input(\"Deposit amount: \"))\n",
    "        user.deposit(money)\n",
    "    elif service == 3:\n",
    "        money = float(input(\"Withdraw amount: \"))\n",
    "        user.withdraw(money)\n",
    "    elif service == 4:\n",
    "        to_acc = input(\"Destination account: \")\n",
    "        money = float(input(\"Transfer amount: \"))\n",
    "        user.transfer(to_acc, money)\n",
    "    elif service == 5:\n",
    "        new_acc_name = input(\"New account name: \")\n",
    "        user.change_name(new_acc_name)\n",
    "    elif service == 6:\n",
    "        new_password = input(\"New password: \")\n",
    "        user.change_password(new_password)\n",
    "    else:\n",
    "        print(\"Wrong input. Please try again.\")\n",
    "        print(\"What would you like to do?\\n 1. Check balance\\n 2. Deposit\\n 3. Withdraw\\n 4. Transfer\\n 5. Change account name\\n 6. Change password\")\n",
    "        service = input(\"Please fill number of service: \")"
   ],
   "execution_count":4,
   "outputs":[
    {
     "name":"stdout",
     "text":[
      "Have a good day! Welcome to Gguys Bank\n",
      "Please fill your name and password!\n",
      "----------------------------------\n",
      "Name:  gguys\n",
      "Password:  251139\n",
      "Login successfully.\n",
      "Hello! gguys\n",
      "Waiting for processing\n",
      "----------------------------------\n",
      "What would you like to do?\n",
      " 1. Check balance\n",
      " 2. Deposit\n",
      " 3. Withdraw\n",
      " 4. Transfer\n",
      " 5. Change account name\n",
      " 6. Change password\n",
      "Please fill number of service:  4\n",
      "Destination account:  viboon\n",
      "Transfer amount:  5000\n",
      "---Transfer Sucessfully!---\n",
      "Source Account from :  gguys\n",
      "To Destination account: viboon has Amount 5000.0 THB.\n",
      "Thank you for your continued trust and confidence in our services.\n"
     ],
     "output_type":"stream"
    }
   ],
   "metadata":{
    "datalore":{
     "node_id":"b7WnXhQFzy60f4rAxA5bxi",
     "type":"CODE",
     "hide_input_from_viewers":false,
     "hide_output_from_viewers":false
    }
   }
  }
 ],
 "metadata":{
  "kernelspec":{
   "display_name":"Python",
   "language":"python",
   "name":"python"
  },
  "datalore":{
   "version":1,
   "computation_mode":"JUPYTER",
   "package_manager":"pip",
   "base_environment":"default",
   "packages":[
    
   ]
  }
 },
 "nbformat":4,
 "nbformat_minor":4
}